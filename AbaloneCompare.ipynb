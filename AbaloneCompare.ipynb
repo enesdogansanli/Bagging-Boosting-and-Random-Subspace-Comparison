{
 "cells": [
  {
   "cell_type": "markdown",
   "metadata": {},
   "source": [
    "Abalone Data"
   ]
  },
  {
   "cell_type": "code",
   "execution_count": 1,
   "metadata": {},
   "outputs": [],
   "source": [
    "import tensorflow as tf\n",
    "import os\n",
    "import cv2\n",
    "import imghdr\n",
    "import numpy as np\n",
    "from matplotlib import pyplot as plt\n",
    "from keras.models import Sequential\n",
    "from keras.layers import Conv2D, MaxPooling2D, Dense, Flatten, Dropout\n",
    "from sklearn.manifold import TSNE\n",
    "from sklearn.preprocessing import StandardScaler \n",
    "from sklearn.decomposition import PCA\n",
    "import pandas as pd\n",
    "import seaborn as sns\n",
    "from scipy.io import arff\n",
    "from sklearn.model_selection import train_test_split"
   ]
  },
  {
   "cell_type": "code",
   "execution_count": 2,
   "metadata": {},
   "outputs": [
    {
     "name": "stdout",
     "output_type": "stream",
     "text": [
      "(4177, 11)\n"
     ]
    },
    {
     "data": {
      "text/html": [
       "<div>\n",
       "<style scoped>\n",
       "    .dataframe tbody tr th:only-of-type {\n",
       "        vertical-align: middle;\n",
       "    }\n",
       "\n",
       "    .dataframe tbody tr th {\n",
       "        vertical-align: top;\n",
       "    }\n",
       "\n",
       "    .dataframe thead th {\n",
       "        text-align: right;\n",
       "    }\n",
       "</style>\n",
       "<table border=\"1\" class=\"dataframe\">\n",
       "  <thead>\n",
       "    <tr style=\"text-align: right;\">\n",
       "      <th></th>\n",
       "      <th>Sex=M</th>\n",
       "      <th>Sex=F</th>\n",
       "      <th>Sex=I</th>\n",
       "      <th>Length</th>\n",
       "      <th>Diameter</th>\n",
       "      <th>Height</th>\n",
       "      <th>Whole weight</th>\n",
       "      <th>Shucked weight</th>\n",
       "      <th>Viscera weight</th>\n",
       "      <th>Shell weight</th>\n",
       "      <th>Class_Rings</th>\n",
       "    </tr>\n",
       "  </thead>\n",
       "  <tbody>\n",
       "    <tr>\n",
       "      <th>0</th>\n",
       "      <td>1.0</td>\n",
       "      <td>0.0</td>\n",
       "      <td>0.0</td>\n",
       "      <td>0.513514</td>\n",
       "      <td>0.521008</td>\n",
       "      <td>0.084071</td>\n",
       "      <td>0.181335</td>\n",
       "      <td>0.150303</td>\n",
       "      <td>0.132324</td>\n",
       "      <td>0.147982</td>\n",
       "      <td>0.500000</td>\n",
       "    </tr>\n",
       "    <tr>\n",
       "      <th>1</th>\n",
       "      <td>1.0</td>\n",
       "      <td>0.0</td>\n",
       "      <td>0.0</td>\n",
       "      <td>0.371622</td>\n",
       "      <td>0.352941</td>\n",
       "      <td>0.079646</td>\n",
       "      <td>0.079157</td>\n",
       "      <td>0.066241</td>\n",
       "      <td>0.063199</td>\n",
       "      <td>0.068261</td>\n",
       "      <td>0.214286</td>\n",
       "    </tr>\n",
       "    <tr>\n",
       "      <th>2</th>\n",
       "      <td>0.0</td>\n",
       "      <td>1.0</td>\n",
       "      <td>0.0</td>\n",
       "      <td>0.614865</td>\n",
       "      <td>0.613445</td>\n",
       "      <td>0.119469</td>\n",
       "      <td>0.239065</td>\n",
       "      <td>0.171822</td>\n",
       "      <td>0.185648</td>\n",
       "      <td>0.207773</td>\n",
       "      <td>0.285714</td>\n",
       "    </tr>\n",
       "    <tr>\n",
       "      <th>3</th>\n",
       "      <td>1.0</td>\n",
       "      <td>0.0</td>\n",
       "      <td>0.0</td>\n",
       "      <td>0.493243</td>\n",
       "      <td>0.521008</td>\n",
       "      <td>0.110619</td>\n",
       "      <td>0.182044</td>\n",
       "      <td>0.144250</td>\n",
       "      <td>0.149440</td>\n",
       "      <td>0.152965</td>\n",
       "      <td>0.321429</td>\n",
       "    </tr>\n",
       "    <tr>\n",
       "      <th>4</th>\n",
       "      <td>0.0</td>\n",
       "      <td>0.0</td>\n",
       "      <td>1.0</td>\n",
       "      <td>0.344595</td>\n",
       "      <td>0.336134</td>\n",
       "      <td>0.070796</td>\n",
       "      <td>0.071897</td>\n",
       "      <td>0.059516</td>\n",
       "      <td>0.051350</td>\n",
       "      <td>0.053313</td>\n",
       "      <td>0.214286</td>\n",
       "    </tr>\n",
       "  </tbody>\n",
       "</table>\n",
       "</div>"
      ],
      "text/plain": [
       "   Sex=M  Sex=F  Sex=I    Length  Diameter    Height  Whole weight  \\\n",
       "0    1.0    0.0    0.0  0.513514  0.521008  0.084071      0.181335   \n",
       "1    1.0    0.0    0.0  0.371622  0.352941  0.079646      0.079157   \n",
       "2    0.0    1.0    0.0  0.614865  0.613445  0.119469      0.239065   \n",
       "3    1.0    0.0    0.0  0.493243  0.521008  0.110619      0.182044   \n",
       "4    0.0    0.0    1.0  0.344595  0.336134  0.070796      0.071897   \n",
       "\n",
       "   Shucked weight  Viscera weight  Shell weight  Class_Rings  \n",
       "0        0.150303        0.132324      0.147982     0.500000  \n",
       "1        0.066241        0.063199      0.068261     0.214286  \n",
       "2        0.171822        0.185648      0.207773     0.285714  \n",
       "3        0.144250        0.149440      0.152965     0.321429  \n",
       "4        0.059516        0.051350      0.053313     0.214286  "
      ]
     },
     "execution_count": 2,
     "metadata": {},
     "output_type": "execute_result"
    }
   ],
   "source": [
    "data = arff.loadarff('abalone.arff')\n",
    "df = pd.DataFrame(data[0])\n",
    "print(df.shape)\n",
    "\n",
    "df.head()"
   ]
  },
  {
   "cell_type": "code",
   "execution_count": 3,
   "metadata": {},
   "outputs": [
    {
     "data": {
      "text/html": [
       "<div>\n",
       "<style scoped>\n",
       "    .dataframe tbody tr th:only-of-type {\n",
       "        vertical-align: middle;\n",
       "    }\n",
       "\n",
       "    .dataframe tbody tr th {\n",
       "        vertical-align: top;\n",
       "    }\n",
       "\n",
       "    .dataframe thead th {\n",
       "        text-align: right;\n",
       "    }\n",
       "</style>\n",
       "<table border=\"1\" class=\"dataframe\">\n",
       "  <thead>\n",
       "    <tr style=\"text-align: right;\">\n",
       "      <th></th>\n",
       "      <th>count</th>\n",
       "      <th>mean</th>\n",
       "      <th>std</th>\n",
       "      <th>min</th>\n",
       "      <th>25%</th>\n",
       "      <th>50%</th>\n",
       "      <th>75%</th>\n",
       "      <th>max</th>\n",
       "    </tr>\n",
       "  </thead>\n",
       "  <tbody>\n",
       "    <tr>\n",
       "      <th>Sex=M</th>\n",
       "      <td>4177.0</td>\n",
       "      <td>0.365813</td>\n",
       "      <td>0.481715</td>\n",
       "      <td>0.0</td>\n",
       "      <td>0.000000</td>\n",
       "      <td>0.000000</td>\n",
       "      <td>1.000000</td>\n",
       "      <td>1.0</td>\n",
       "    </tr>\n",
       "    <tr>\n",
       "      <th>Sex=F</th>\n",
       "      <td>4177.0</td>\n",
       "      <td>0.312904</td>\n",
       "      <td>0.463731</td>\n",
       "      <td>0.0</td>\n",
       "      <td>0.000000</td>\n",
       "      <td>0.000000</td>\n",
       "      <td>1.000000</td>\n",
       "      <td>1.0</td>\n",
       "    </tr>\n",
       "    <tr>\n",
       "      <th>Sex=I</th>\n",
       "      <td>4177.0</td>\n",
       "      <td>0.321283</td>\n",
       "      <td>0.467025</td>\n",
       "      <td>0.0</td>\n",
       "      <td>0.000000</td>\n",
       "      <td>0.000000</td>\n",
       "      <td>1.000000</td>\n",
       "      <td>1.0</td>\n",
       "    </tr>\n",
       "    <tr>\n",
       "      <th>Length</th>\n",
       "      <td>4177.0</td>\n",
       "      <td>0.606746</td>\n",
       "      <td>0.162288</td>\n",
       "      <td>0.0</td>\n",
       "      <td>0.506757</td>\n",
       "      <td>0.635135</td>\n",
       "      <td>0.729730</td>\n",
       "      <td>1.0</td>\n",
       "    </tr>\n",
       "    <tr>\n",
       "      <th>Diameter</th>\n",
       "      <td>4177.0</td>\n",
       "      <td>0.593078</td>\n",
       "      <td>0.166790</td>\n",
       "      <td>0.0</td>\n",
       "      <td>0.495798</td>\n",
       "      <td>0.621849</td>\n",
       "      <td>0.714286</td>\n",
       "      <td>1.0</td>\n",
       "    </tr>\n",
       "    <tr>\n",
       "      <th>Height</th>\n",
       "      <td>4177.0</td>\n",
       "      <td>0.123466</td>\n",
       "      <td>0.037015</td>\n",
       "      <td>0.0</td>\n",
       "      <td>0.101770</td>\n",
       "      <td>0.123894</td>\n",
       "      <td>0.146018</td>\n",
       "      <td>1.0</td>\n",
       "    </tr>\n",
       "    <tr>\n",
       "      <th>Whole weight</th>\n",
       "      <td>4177.0</td>\n",
       "      <td>0.292808</td>\n",
       "      <td>0.173681</td>\n",
       "      <td>0.0</td>\n",
       "      <td>0.155658</td>\n",
       "      <td>0.282451</td>\n",
       "      <td>0.407650</td>\n",
       "      <td>1.0</td>\n",
       "    </tr>\n",
       "    <tr>\n",
       "      <th>Shucked weight</th>\n",
       "      <td>4177.0</td>\n",
       "      <td>0.241000</td>\n",
       "      <td>0.149269</td>\n",
       "      <td>0.0</td>\n",
       "      <td>0.124412</td>\n",
       "      <td>0.225286</td>\n",
       "      <td>0.336920</td>\n",
       "      <td>1.0</td>\n",
       "    </tr>\n",
       "    <tr>\n",
       "      <th>Viscera weight</th>\n",
       "      <td>4177.0</td>\n",
       "      <td>0.237121</td>\n",
       "      <td>0.144324</td>\n",
       "      <td>0.0</td>\n",
       "      <td>0.122449</td>\n",
       "      <td>0.224490</td>\n",
       "      <td>0.332456</td>\n",
       "      <td>1.0</td>\n",
       "    </tr>\n",
       "    <tr>\n",
       "      <th>Shell weight</th>\n",
       "      <td>4177.0</td>\n",
       "      <td>0.236503</td>\n",
       "      <td>0.138717</td>\n",
       "      <td>0.0</td>\n",
       "      <td>0.128052</td>\n",
       "      <td>0.231689</td>\n",
       "      <td>0.326358</td>\n",
       "      <td>1.0</td>\n",
       "    </tr>\n",
       "    <tr>\n",
       "      <th>Class_Rings</th>\n",
       "      <td>4177.0</td>\n",
       "      <td>0.319060</td>\n",
       "      <td>0.115149</td>\n",
       "      <td>0.0</td>\n",
       "      <td>0.250000</td>\n",
       "      <td>0.285714</td>\n",
       "      <td>0.357143</td>\n",
       "      <td>1.0</td>\n",
       "    </tr>\n",
       "  </tbody>\n",
       "</table>\n",
       "</div>"
      ],
      "text/plain": [
       "                 count      mean       std  min       25%       50%       75%  \\\n",
       "Sex=M           4177.0  0.365813  0.481715  0.0  0.000000  0.000000  1.000000   \n",
       "Sex=F           4177.0  0.312904  0.463731  0.0  0.000000  0.000000  1.000000   \n",
       "Sex=I           4177.0  0.321283  0.467025  0.0  0.000000  0.000000  1.000000   \n",
       "Length          4177.0  0.606746  0.162288  0.0  0.506757  0.635135  0.729730   \n",
       "Diameter        4177.0  0.593078  0.166790  0.0  0.495798  0.621849  0.714286   \n",
       "Height          4177.0  0.123466  0.037015  0.0  0.101770  0.123894  0.146018   \n",
       "Whole weight    4177.0  0.292808  0.173681  0.0  0.155658  0.282451  0.407650   \n",
       "Shucked weight  4177.0  0.241000  0.149269  0.0  0.124412  0.225286  0.336920   \n",
       "Viscera weight  4177.0  0.237121  0.144324  0.0  0.122449  0.224490  0.332456   \n",
       "Shell weight    4177.0  0.236503  0.138717  0.0  0.128052  0.231689  0.326358   \n",
       "Class_Rings     4177.0  0.319060  0.115149  0.0  0.250000  0.285714  0.357143   \n",
       "\n",
       "                max  \n",
       "Sex=M           1.0  \n",
       "Sex=F           1.0  \n",
       "Sex=I           1.0  \n",
       "Length          1.0  \n",
       "Diameter        1.0  \n",
       "Height          1.0  \n",
       "Whole weight    1.0  \n",
       "Shucked weight  1.0  \n",
       "Viscera weight  1.0  \n",
       "Shell weight    1.0  \n",
       "Class_Rings     1.0  "
      ]
     },
     "execution_count": 3,
     "metadata": {},
     "output_type": "execute_result"
    }
   ],
   "source": [
    "df.describe().T"
   ]
  },
  {
   "cell_type": "code",
   "execution_count": 4,
   "metadata": {},
   "outputs": [
    {
     "name": "stdout",
     "output_type": "stream",
     "text": [
      "0       0.500000\n",
      "1       0.214286\n",
      "2       0.285714\n",
      "3       0.321429\n",
      "4       0.214286\n",
      "          ...   \n",
      "4172    0.357143\n",
      "4173    0.321429\n",
      "4174    0.285714\n",
      "4175    0.321429\n",
      "4176    0.392857\n",
      "Name: Class_Rings, Length: 4177, dtype: float64\n"
     ]
    }
   ],
   "source": [
    "print(df[\"Class_Rings\"])"
   ]
  },
  {
   "cell_type": "code",
   "execution_count": 5,
   "metadata": {},
   "outputs": [
    {
     "name": "stdout",
     "output_type": "stream",
     "text": [
      "10\n"
     ]
    }
   ],
   "source": [
    "X = df.drop(\"Class_Rings\",axis=1)\n",
    "X.head()\n",
    "features = (X.shape)[1] # feature value\n",
    "print(features) "
   ]
  },
  {
   "cell_type": "code",
   "execution_count": 6,
   "metadata": {},
   "outputs": [
    {
     "data": {
      "text/plain": [
       "0    0.500000\n",
       "1    0.214286\n",
       "2    0.285714\n",
       "3    0.321429\n",
       "4    0.214286\n",
       "Name: Class_Rings, dtype: float64"
      ]
     },
     "execution_count": 6,
     "metadata": {},
     "output_type": "execute_result"
    }
   ],
   "source": [
    "Y = df['Class_Rings']\n",
    "Y.head()"
   ]
  },
  {
   "cell_type": "code",
   "execution_count": 7,
   "metadata": {},
   "outputs": [],
   "source": [
    "# Train - Test ayrımını yapmak lazım.\n",
    "X_train_full,X_test,y_train_full,y_test = train_test_split(X,Y,test_size = 0.2)"
   ]
  },
  {
   "cell_type": "code",
   "execution_count": 8,
   "metadata": {},
   "outputs": [],
   "source": [
    "X_train,X_valid,y_train,y_valid = train_test_split(X_train_full,y_train_full,test_size = 0.2)   "
   ]
  },
  {
   "cell_type": "code",
   "execution_count": 9,
   "metadata": {},
   "outputs": [],
   "source": [
    "# Model\n",
    "# 1 Hidden katmanlı yapı\n",
    "\n",
    "model = Sequential()\n",
    "model.add(Dense(5, activation='relu')) # Hidden layer\n",
    "model.add(Dense(1)) # Output layer\n"
   ]
  },
  {
   "cell_type": "code",
   "execution_count": 10,
   "metadata": {},
   "outputs": [],
   "source": [
    "# Adam optimizer ile MAE performans kriteri ile\n",
    "model.compile(tf.keras.optimizers.Adam(), loss='mean_squared_error', metrics=['accuracy'])"
   ]
  },
  {
   "cell_type": "code",
   "execution_count": 11,
   "metadata": {},
   "outputs": [
    {
     "name": "stdout",
     "output_type": "stream",
     "text": [
      "Epoch 1/30\n",
      "42/42 [==============================] - 1s 9ms/step - loss: 0.3072 - accuracy: 0.0000e+00 - val_loss: 0.2229 - val_accuracy: 0.0015\n",
      "Epoch 2/30\n",
      "42/42 [==============================] - 0s 4ms/step - loss: 0.1595 - accuracy: 0.0000e+00 - val_loss: 0.1246 - val_accuracy: 0.0015\n",
      "Epoch 3/30\n",
      "42/42 [==============================] - 0s 4ms/step - loss: 0.0711 - accuracy: 0.0000e+00 - val_loss: 0.0288 - val_accuracy: 0.0015\n",
      "Epoch 4/30\n",
      "42/42 [==============================] - 0s 3ms/step - loss: 0.0156 - accuracy: 0.0000e+00 - val_loss: 0.0134 - val_accuracy: 0.0015\n",
      "Epoch 5/30\n",
      "42/42 [==============================] - 0s 3ms/step - loss: 0.0119 - accuracy: 0.0000e+00 - val_loss: 0.0121 - val_accuracy: 0.0015\n",
      "Epoch 6/30\n",
      "42/42 [==============================] - 0s 3ms/step - loss: 0.0110 - accuracy: 0.0000e+00 - val_loss: 0.0115 - val_accuracy: 0.0015\n",
      "Epoch 7/30\n",
      "42/42 [==============================] - 0s 3ms/step - loss: 0.0105 - accuracy: 0.0000e+00 - val_loss: 0.0112 - val_accuracy: 0.0015\n",
      "Epoch 8/30\n",
      "42/42 [==============================] - 0s 3ms/step - loss: 0.0102 - accuracy: 0.0000e+00 - val_loss: 0.0110 - val_accuracy: 0.0015\n",
      "Epoch 9/30\n",
      "42/42 [==============================] - 0s 3ms/step - loss: 0.0100 - accuracy: 0.0000e+00 - val_loss: 0.0108 - val_accuracy: 0.0015\n",
      "Epoch 10/30\n",
      "42/42 [==============================] - 0s 3ms/step - loss: 0.0099 - accuracy: 0.0000e+00 - val_loss: 0.0107 - val_accuracy: 0.0015\n",
      "Epoch 11/30\n",
      "42/42 [==============================] - 0s 3ms/step - loss: 0.0098 - accuracy: 0.0000e+00 - val_loss: 0.0106 - val_accuracy: 0.0015\n",
      "Epoch 12/30\n",
      "42/42 [==============================] - 0s 3ms/step - loss: 0.0097 - accuracy: 0.0000e+00 - val_loss: 0.0105 - val_accuracy: 0.0015\n",
      "Epoch 13/30\n",
      "42/42 [==============================] - 0s 3ms/step - loss: 0.0096 - accuracy: 0.0000e+00 - val_loss: 0.0105 - val_accuracy: 0.0015\n",
      "Epoch 14/30\n",
      "42/42 [==============================] - 0s 3ms/step - loss: 0.0095 - accuracy: 0.0000e+00 - val_loss: 0.0104 - val_accuracy: 0.0015\n",
      "Epoch 15/30\n",
      "42/42 [==============================] - 0s 3ms/step - loss: 0.0094 - accuracy: 0.0000e+00 - val_loss: 0.0104 - val_accuracy: 0.0015\n",
      "Epoch 16/30\n",
      "42/42 [==============================] - 0s 3ms/step - loss: 0.0094 - accuracy: 0.0000e+00 - val_loss: 0.0103 - val_accuracy: 0.0015\n",
      "Epoch 17/30\n",
      "42/42 [==============================] - 0s 3ms/step - loss: 0.0093 - accuracy: 0.0000e+00 - val_loss: 0.0103 - val_accuracy: 0.0015\n",
      "Epoch 18/30\n",
      "42/42 [==============================] - 0s 4ms/step - loss: 0.0093 - accuracy: 0.0000e+00 - val_loss: 0.0102 - val_accuracy: 0.0015\n",
      "Epoch 19/30\n",
      "42/42 [==============================] - 0s 3ms/step - loss: 0.0092 - accuracy: 0.0000e+00 - val_loss: 0.0102 - val_accuracy: 0.0015\n",
      "Epoch 20/30\n",
      "42/42 [==============================] - 0s 3ms/step - loss: 0.0092 - accuracy: 0.0000e+00 - val_loss: 0.0102 - val_accuracy: 0.0015\n",
      "Epoch 21/30\n",
      "42/42 [==============================] - 0s 3ms/step - loss: 0.0091 - accuracy: 0.0000e+00 - val_loss: 0.0101 - val_accuracy: 0.0015\n",
      "Epoch 22/30\n",
      "42/42 [==============================] - 0s 3ms/step - loss: 0.0091 - accuracy: 0.0000e+00 - val_loss: 0.0101 - val_accuracy: 0.0015\n",
      "Epoch 23/30\n",
      "42/42 [==============================] - 0s 4ms/step - loss: 0.0090 - accuracy: 0.0000e+00 - val_loss: 0.0100 - val_accuracy: 0.0015\n",
      "Epoch 24/30\n",
      "42/42 [==============================] - 0s 4ms/step - loss: 0.0090 - accuracy: 0.0000e+00 - val_loss: 0.0100 - val_accuracy: 0.0015\n",
      "Epoch 25/30\n",
      "42/42 [==============================] - 0s 3ms/step - loss: 0.0089 - accuracy: 0.0000e+00 - val_loss: 0.0099 - val_accuracy: 0.0015\n",
      "Epoch 26/30\n",
      "42/42 [==============================] - 0s 3ms/step - loss: 0.0089 - accuracy: 0.0000e+00 - val_loss: 0.0099 - val_accuracy: 0.0015\n",
      "Epoch 27/30\n",
      "42/42 [==============================] - 0s 3ms/step - loss: 0.0089 - accuracy: 0.0000e+00 - val_loss: 0.0099 - val_accuracy: 0.0015\n",
      "Epoch 28/30\n",
      "42/42 [==============================] - 0s 3ms/step - loss: 0.0088 - accuracy: 0.0000e+00 - val_loss: 0.0098 - val_accuracy: 0.0015\n",
      "Epoch 29/30\n",
      "42/42 [==============================] - 0s 3ms/step - loss: 0.0088 - accuracy: 0.0000e+00 - val_loss: 0.0099 - val_accuracy: 0.0015\n",
      "Epoch 30/30\n",
      "42/42 [==============================] - 0s 3ms/step - loss: 0.0088 - accuracy: 0.0000e+00 - val_loss: 0.0098 - val_accuracy: 0.0015\n"
     ]
    }
   ],
   "source": [
    "history = model.fit(X_train,y_train, epochs=30, batch_size=64,validation_data=(X_valid,y_valid))"
   ]
  },
  {
   "cell_type": "code",
   "execution_count": 19,
   "metadata": {},
   "outputs": [
    {
     "data": {
      "image/png": "[encoded data removed]",
      "text/plain": [
       "<Figure size 432x288 with 1 Axes>"
      ]
     },
     "metadata": {
      "needs_background": "light"
     },
     "output_type": "display_data"
    }
   ],
   "source": [
    "plt.plot(history.history['val_loss'])\n",
    "plt.plot(history.history['loss'])\n",
    "plt.title('model accuracy')\n",
    "plt.ylabel('loss')\n",
    "plt.xlabel('epoch')\n",
    "plt.legend(['val_loss', 'loss'], loc='upper left')\n",
    "plt.show()"
   ]
  },
  {
   "cell_type": "code",
   "execution_count": 23,
   "metadata": {},
   "outputs": [],
   "source": [
    "testLoss = model.evaluate(X_test,y_test,verbose=0) "
   ]
  },
  {
   "cell_type": "code",
   "execution_count": 27,
   "metadata": {},
   "outputs": [
    {
     "name": "stdout",
     "output_type": "stream",
     "text": [
      "Test loss :  0.008199487812817097\n",
      "Test accuracy :  0.0\n"
     ]
    }
   ],
   "source": [
    "print(\"Test loss : \",testLoss[0])\n",
    "print(\"Test accuracy : \",testLoss[1])"
   ]
  },
  {
   "cell_type": "code",
   "execution_count": 28,
   "metadata": {},
   "outputs": [
    {
     "data": {
      "image/png": "[encoded data removed]",
      "text/plain": [
       "<Figure size 432x288 with 1 Axes>"
      ]
     },
     "metadata": {
      "needs_background": "light"
     },
     "output_type": "display_data"
    }
   ],
   "source": [
    "plt.plot(history.history['accuracy'])\n",
    "plt.plot(history.history['val_accuracy'])\n",
    "plt.title('model accuracy')\n",
    "plt.ylabel('accuracy')\n",
    "plt.xlabel('epoch')\n",
    "plt.legend(['train', 'val'], loc='upper left')\n",
    "plt.show()"
   ]
  },
  {
   "cell_type": "code",
   "execution_count": 30,
   "metadata": {},
   "outputs": [],
   "source": [
    "from scikeras.wrappers import KerasRegressor"
   ]
  },
  {
   "cell_type": "code",
   "execution_count": 31,
   "metadata": {},
   "outputs": [],
   "source": [
    "keras_clf = KerasRegressor(model = model, optimizer=\"adam\", epochs=50,batch_size=64,loss='mean_squared_error',verbose=0)"
   ]
  },
  {
   "cell_type": "code",
   "execution_count": 32,
   "metadata": {},
   "outputs": [],
   "source": [
    "from sklearn.ensemble import BaggingRegressor\n",
    "from sklearn.ensemble import AdaBoostRegressor"
   ]
  },
  {
   "cell_type": "code",
   "execution_count": 33,
   "metadata": {},
   "outputs": [],
   "source": [
    "bag_reg = BaggingRegressor(base_estimator=keras_clf,n_estimators=10,random_state=1)"
   ]
  },
  {
   "cell_type": "code",
   "execution_count": 36,
   "metadata": {},
   "outputs": [
    {
     "name": "stdout",
     "output_type": "stream",
     "text": [
      "INFO:tensorflow:Assets written to: C:\\Users\\enes_\\AppData\\Local\\Temp\\tmpw1x63sk8\\assets\n",
      "INFO:tensorflow:Assets written to: C:\\Users\\enes_\\AppData\\Local\\Temp\\tmpt7x8063m\\assets\n",
      "INFO:tensorflow:Assets written to: C:\\Users\\enes_\\AppData\\Local\\Temp\\tmp8qpp9j5w\\assets\n",
      "INFO:tensorflow:Assets written to: C:\\Users\\enes_\\AppData\\Local\\Temp\\tmp922uu86i\\assets\n",
      "INFO:tensorflow:Assets written to: C:\\Users\\enes_\\AppData\\Local\\Temp\\tmp7q988mnl\\assets\n",
      "INFO:tensorflow:Assets written to: C:\\Users\\enes_\\AppData\\Local\\Temp\\tmpn8ave5sh\\assets\n",
      "INFO:tensorflow:Assets written to: C:\\Users\\enes_\\AppData\\Local\\Temp\\tmpoep1bal_\\assets\n",
      "INFO:tensorflow:Assets written to: C:\\Users\\enes_\\AppData\\Local\\Temp\\tmpcwdo51zb\\assets\n",
      "INFO:tensorflow:Assets written to: C:\\Users\\enes_\\AppData\\Local\\Temp\\tmpdfmh0zw9\\assets\n",
      "INFO:tensorflow:Assets written to: C:\\Users\\enes_\\AppData\\Local\\Temp\\tmpdalxnebd\\assets\n"
     ]
    }
   ],
   "source": [
    "baghist = bag_reg.fit(X_train,y_train)"
   ]
  },
  {
   "cell_type": "code",
   "execution_count": 41,
   "metadata": {},
   "outputs": [
    {
     "data": {
      "text/plain": [
       "0.43868603895262626"
      ]
     },
     "execution_count": 41,
     "metadata": {},
     "output_type": "execute_result"
    }
   ],
   "source": [
    "baghist.score(X_test,y_test)"
   ]
  },
  {
   "cell_type": "code",
   "execution_count": 42,
   "metadata": {},
   "outputs": [],
   "source": [
    "ada_reg = AdaBoostRegressor(base_estimator=keras_clf,n_estimators=10,random_state=1)"
   ]
  },
  {
   "cell_type": "code",
   "execution_count": 43,
   "metadata": {},
   "outputs": [
    {
     "name": "stdout",
     "output_type": "stream",
     "text": [
      "INFO:tensorflow:Assets written to: C:\\Users\\enes_\\AppData\\Local\\Temp\\tmphez9fnf3\\assets\n",
      "INFO:tensorflow:Assets written to: C:\\Users\\enes_\\AppData\\Local\\Temp\\tmptrap0t5b\\assets\n",
      "INFO:tensorflow:Assets written to: C:\\Users\\enes_\\AppData\\Local\\Temp\\tmpyf_qm_is\\assets\n",
      "INFO:tensorflow:Assets written to: C:\\Users\\enes_\\AppData\\Local\\Temp\\tmpxmhcet2r\\assets\n",
      "INFO:tensorflow:Assets written to: C:\\Users\\enes_\\AppData\\Local\\Temp\\tmpzb16hac3\\assets\n",
      "INFO:tensorflow:Assets written to: C:\\Users\\enes_\\AppData\\Local\\Temp\\tmp9bf4hwyn\\assets\n",
      "INFO:tensorflow:Assets written to: C:\\Users\\enes_\\AppData\\Local\\Temp\\tmplc4z60p3\\assets\n",
      "INFO:tensorflow:Assets written to: C:\\Users\\enes_\\AppData\\Local\\Temp\\tmpe8hq5cvp\\assets\n",
      "INFO:tensorflow:Assets written to: C:\\Users\\enes_\\AppData\\Local\\Temp\\tmpi26rlh92\\assets\n",
      "INFO:tensorflow:Assets written to: C:\\Users\\enes_\\AppData\\Local\\Temp\\tmpnp96xj7d\\assets\n"
     ]
    }
   ],
   "source": [
    "adahis = ada_reg.fit(X_train,y_train)"
   ]
  },
  {
   "cell_type": "code",
   "execution_count": 44,
   "metadata": {},
   "outputs": [
    {
     "data": {
      "text/plain": [
       "0.4783871693124806"
      ]
     },
     "execution_count": 44,
     "metadata": {},
     "output_type": "execute_result"
    }
   ],
   "source": [
    "adahis.score(X_test,y_test)"
   ]
  },
  {
   "cell_type": "code",
   "execution_count": 45,
   "metadata": {},
   "outputs": [],
   "source": [
    "ranSub_reg = BaggingRegressor(base_estimator=keras_clf,n_estimators=10,bootstrap=False,bootstrap_features=True,random_state=1)"
   ]
  },
  {
   "cell_type": "code",
   "execution_count": 46,
   "metadata": {},
   "outputs": [
    {
     "name": "stdout",
     "output_type": "stream",
     "text": [
      "INFO:tensorflow:Assets written to: C:\\Users\\enes_\\AppData\\Local\\Temp\\tmpq7514n7g\\assets\n",
      "INFO:tensorflow:Assets written to: C:\\Users\\enes_\\AppData\\Local\\Temp\\tmpeweyrdl5\\assets\n",
      "INFO:tensorflow:Assets written to: C:\\Users\\enes_\\AppData\\Local\\Temp\\tmpat6jra48\\assets\n",
      "INFO:tensorflow:Assets written to: C:\\Users\\enes_\\AppData\\Local\\Temp\\tmpms3rx7ps\\assets\n",
      "INFO:tensorflow:Assets written to: C:\\Users\\enes_\\AppData\\Local\\Temp\\tmp_coe0t6g\\assets\n",
      "INFO:tensorflow:Assets written to: C:\\Users\\enes_\\AppData\\Local\\Temp\\tmptcv56a8w\\assets\n",
      "INFO:tensorflow:Assets written to: C:\\Users\\enes_\\AppData\\Local\\Temp\\tmpuduvss2d\\assets\n",
      "INFO:tensorflow:Assets written to: C:\\Users\\enes_\\AppData\\Local\\Temp\\tmpgt5h52yc\\assets\n",
      "INFO:tensorflow:Assets written to: C:\\Users\\enes_\\AppData\\Local\\Temp\\tmp91r3gcjo\\assets\n",
      "INFO:tensorflow:Assets written to: C:\\Users\\enes_\\AppData\\Local\\Temp\\tmp957ny895\\assets\n"
     ]
    }
   ],
   "source": [
    "ransubhist = ranSub_reg.fit(X_train,y_train)"
   ]
  },
  {
   "cell_type": "code",
   "execution_count": 47,
   "metadata": {},
   "outputs": [
    {
     "data": {
      "text/plain": [
       "0.4502186251891681"
      ]
     },
     "execution_count": 47,
     "metadata": {},
     "output_type": "execute_result"
    }
   ],
   "source": [
    "ransubhist.score(X_test,y_test)"
   ]
  }
 ],
 "metadata": {
  "kernelspec": {
   "display_name": "Python 3.9.13 64-bit",
   "language": "python",
   "name": "python3"
  },
  "language_info": {
   "codemirror_mode": {
    "name": "ipython",
    "version": 3
   },
   "file_extension": ".py",
   "mimetype": "text/x-python",
   "name": "python",
   "nbconvert_exporter": "python",
   "pygments_lexer": "ipython3",
   "version": "3.9.13"
  },
  "orig_nbformat": 4,
  "vscode": {
   "interpreter": {
    "hash": "e81f3eb113a4575374b4ec6b7269680492ed507ee7da4a22f49e975af020ad03"
   }
  }
 },
 "nbformat": 4,
 "nbformat_minor": 2
}
