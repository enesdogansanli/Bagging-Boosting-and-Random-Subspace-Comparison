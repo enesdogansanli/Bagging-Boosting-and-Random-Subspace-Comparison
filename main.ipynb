{
 "cells": [
  {
   "cell_type": "markdown",
   "metadata": {},
   "source": [
    "The second task of Collective Learning"
   ]
  },
  {
   "cell_type": "markdown",
   "metadata": {},
   "source": [
    "PROJEDE İSTENENLER\n",
    "\n",
    "-En temelde 3 adet kollekti öğrenme algoritmasının karşılaştırmasını yapacağız. (Bagging, Boosting ve Random Subspace)\n",
    "-Projemizde dersin sitesinde bulunan regresyon verilerini kullanacağız. (10 adet veri seti)\n",
    "-Saklı katmandaki nöron sayısı veri kümesinin özellik sayısının yarısı olacaktır. \n",
    "-Diğer hiper parametreleri (epoch / öğrenme katsayısı / öğrenme algoritması vb.) veri kümelerine özel olarak ayarlayınız.\n",
    "-Tekil öğrenici sayısı tüm denemelerde 10 olarak kullanılacaktır.\n",
    "-Tüm denemeler 10 kez (5*2 fold CV) tekrarlanacaktır (t-test için).\n",
    "-Algoritmalar arası karşılaştırmalar 2’li t-test (%95) ile yapılacaktır. 5*2 fold CV kullanılacaktır. Karşılaştırmaya tüm örneklerle oluşturulan tekil YSA  ları da dahil ediniz.  Toplamda 4 algoritma 10 veri kümesi üzerinde karşılaştırılacaktır. (4P)\n",
    "-Seçtiğiniz 2 veri kümesi üzerinde Epoch’lar boyunca tekil öğrenicilerin ve ensemble’ın test / validasyon performanslarını çizdiriniz. 3 ens. alg * 2 veri kümesi = toplam 6 grafik. \n",
    "-Elde ettiğin bulguları yorumla.\n",
    "-Rapor hazırla ve sunuma hazırlan."
   ]
  },
  {
   "cell_type": "markdown",
   "metadata": {},
   "source": [
    "İlk öncelik güzel bir yapı inşa etmek gibi görüyorum. İstenenlar ışığında bir yapay sinir ağı modeli oluştur."
   ]
  },
  {
   "cell_type": "code",
   "execution_count": 1,
   "metadata": {},
   "outputs": [],
   "source": [
    "import tensorflow as tf\n",
    "import os\n",
    "import cv2\n",
    "import imghdr\n",
    "import numpy as np\n",
    "from matplotlib import pyplot as plt\n",
    "from keras.models import Sequential\n",
    "from keras.layers import Conv2D, MaxPooling2D, Dense, Flatten, Dropout\n",
    "from sklearn.manifold import TSNE\n",
    "from sklearn.preprocessing import StandardScaler \n",
    "from sklearn.decomposition import PCA\n",
    "import pandas as pd\n",
    "import seaborn as sns\n"
   ]
  }
 ],
 "metadata": {
  "kernelspec": {
   "display_name": "Python 3.9.13 64-bit",
   "language": "python",
   "name": "python3"
  },
  "language_info": {
   "codemirror_mode": {
    "name": "ipython",
    "version": 3
   },
   "file_extension": ".py",
   "mimetype": "text/x-python",
   "name": "python",
   "nbconvert_exporter": "python",
   "pygments_lexer": "ipython3",
   "version": "3.9.13"
  },
  "orig_nbformat": 4,
  "vscode": {
   "interpreter": {
    "hash": "e81f3eb113a4575374b4ec6b7269680492ed507ee7da4a22f49e975af020ad03"
   }
  }
 },
 "nbformat": 4,
 "nbformat_minor": 2
}
